{
 "cells": [
  {
   "cell_type": "markdown",
   "metadata": {},
   "source": [
    "전국초중등학교위치표준데이터.csv 에서 고등학교 명단만 따로 추출"
   ]
  },
  {
   "cell_type": "code",
   "execution_count": 22,
   "metadata": {},
   "outputs": [
    {
     "ename": "TypeError",
     "evalue": "read_csv() got an unexpected keyword argument 'columns'",
     "output_type": "error",
     "traceback": [
      "\u001b[1;31m---------------------------------------------------------------------------\u001b[0m",
      "\u001b[1;31mTypeError\u001b[0m                                 Traceback (most recent call last)",
      "\u001b[1;32mc:\\Users\\samsung\\OneDrive\\바탕 화면\\컴퓨터 동아리\\인재양성-프로젝트\\development_project\\code\\고등학교 명단 추출.ipynb 셀 2\u001b[0m in \u001b[0;36m<cell line: 3>\u001b[1;34m()\u001b[0m\n\u001b[0;32m      <a href='vscode-notebook-cell:/c%3A/Users/samsung/OneDrive/%EB%B0%94%ED%83%95%20%ED%99%94%EB%A9%B4/%EC%BB%B4%ED%93%A8%ED%84%B0%20%EB%8F%99%EC%95%84%EB%A6%AC/%EC%9D%B8%EC%9E%AC%EC%96%91%EC%84%B1-%ED%94%84%EB%A1%9C%EC%A0%9D%ED%8A%B8/development_project/code/%EA%B3%A0%EB%93%B1%ED%95%99%EA%B5%90%20%EB%AA%85%EB%8B%A8%20%EC%B6%94%EC%B6%9C.ipynb#W1sZmlsZQ%3D%3D?line=0'>1</a>\u001b[0m \u001b[39m# csv 파일 받아오기\u001b[39;00m\n\u001b[0;32m      <a href='vscode-notebook-cell:/c%3A/Users/samsung/OneDrive/%EB%B0%94%ED%83%95%20%ED%99%94%EB%A9%B4/%EC%BB%B4%ED%93%A8%ED%84%B0%20%EB%8F%99%EC%95%84%EB%A6%AC/%EC%9D%B8%EC%9E%AC%EC%96%91%EC%84%B1-%ED%94%84%EB%A1%9C%EC%A0%9D%ED%8A%B8/development_project/code/%EA%B3%A0%EB%93%B1%ED%95%99%EA%B5%90%20%EB%AA%85%EB%8B%A8%20%EC%B6%94%EC%B6%9C.ipynb#W1sZmlsZQ%3D%3D?line=1'>2</a>\u001b[0m \u001b[39mimport\u001b[39;00m \u001b[39mpandas\u001b[39;00m \u001b[39mas\u001b[39;00m \u001b[39mpd\u001b[39;00m\n\u001b[1;32m----> <a href='vscode-notebook-cell:/c%3A/Users/samsung/OneDrive/%EB%B0%94%ED%83%95%20%ED%99%94%EB%A9%B4/%EC%BB%B4%ED%93%A8%ED%84%B0%20%EB%8F%99%EC%95%84%EB%A6%AC/%EC%9D%B8%EC%9E%AC%EC%96%91%EC%84%B1-%ED%94%84%EB%A1%9C%EC%A0%9D%ED%8A%B8/development_project/code/%EA%B3%A0%EB%93%B1%ED%95%99%EA%B5%90%20%EB%AA%85%EB%8B%A8%20%EC%B6%94%EC%B6%9C.ipynb#W1sZmlsZQ%3D%3D?line=2'>3</a>\u001b[0m df \u001b[39m=\u001b[39m pd\u001b[39m.\u001b[39;49mread_csv(\u001b[39m'\u001b[39;49m\u001b[39mcsv/전국초중등학교위치표준데이터.csv\u001b[39;49m\u001b[39m'\u001b[39;49m, encoding\u001b[39m=\u001b[39;49m\u001b[39m'\u001b[39;49m\u001b[39mCP949\u001b[39;49m\u001b[39m'\u001b[39;49m, columns\u001b[39m=\u001b[39;49m[\u001b[39m'\u001b[39;49m\u001b[39m학교명\u001b[39;49m\u001b[39m'\u001b[39;49m, \u001b[39m'\u001b[39;49m\u001b[39m학교급구분\u001b[39;49m\u001b[39m'\u001b[39;49m])\n\u001b[0;32m      <a href='vscode-notebook-cell:/c%3A/Users/samsung/OneDrive/%EB%B0%94%ED%83%95%20%ED%99%94%EB%A9%B4/%EC%BB%B4%ED%93%A8%ED%84%B0%20%EB%8F%99%EC%95%84%EB%A6%AC/%EC%9D%B8%EC%9E%AC%EC%96%91%EC%84%B1-%ED%94%84%EB%A1%9C%EC%A0%9D%ED%8A%B8/development_project/code/%EA%B3%A0%EB%93%B1%ED%95%99%EA%B5%90%20%EB%AA%85%EB%8B%A8%20%EC%B6%94%EC%B6%9C.ipynb#W1sZmlsZQ%3D%3D?line=4'>5</a>\u001b[0m df\u001b[39m.\u001b[39mhead()\n",
      "File \u001b[1;32mc:\\Users\\samsung\\AppData\\Local\\Programs\\Python\\Python39\\lib\\site-packages\\pandas\\util\\_decorators.py:311\u001b[0m, in \u001b[0;36mdeprecate_nonkeyword_arguments.<locals>.decorate.<locals>.wrapper\u001b[1;34m(*args, **kwargs)\u001b[0m\n\u001b[0;32m    305\u001b[0m \u001b[39mif\u001b[39;00m \u001b[39mlen\u001b[39m(args) \u001b[39m>\u001b[39m num_allow_args:\n\u001b[0;32m    306\u001b[0m     warnings\u001b[39m.\u001b[39mwarn(\n\u001b[0;32m    307\u001b[0m         msg\u001b[39m.\u001b[39mformat(arguments\u001b[39m=\u001b[39marguments),\n\u001b[0;32m    308\u001b[0m         \u001b[39mFutureWarning\u001b[39;00m,\n\u001b[0;32m    309\u001b[0m         stacklevel\u001b[39m=\u001b[39mstacklevel,\n\u001b[0;32m    310\u001b[0m     )\n\u001b[1;32m--> 311\u001b[0m \u001b[39mreturn\u001b[39;00m func(\u001b[39m*\u001b[39margs, \u001b[39m*\u001b[39m\u001b[39m*\u001b[39mkwargs)\n",
      "\u001b[1;31mTypeError\u001b[0m: read_csv() got an unexpected keyword argument 'columns'"
     ]
    }
   ],
   "source": [
    "# csv 파일 받아오기\n",
    "import pandas as pd\n",
    "df = pd.read_csv('csv/전국초중등학교위치표준데이터.csv', encoding='CP949')\n",
    "\n",
    "df.head()"
   ]
  },
  {
   "cell_type": "code",
   "execution_count": 33,
   "metadata": {},
   "outputs": [
    {
     "name": "stdout",
     "output_type": "stream",
     "text": [
      "5            누원고등학교\n",
      "7          창원남산고등학교\n",
      "8         부산서여자고등학교\n",
      "10           인창고등학교\n",
      "24           부석고등학교\n",
      "            ...    \n",
      "23908    천안여자상업고등학교\n",
      "23916        간동고등학교\n",
      "23925        사북고등학교\n",
      "23926        장곡고등학교\n",
      "23946      전주공업고등학교\n",
      "Name: 학교명, Length: 4765, dtype: object\n"
     ]
    }
   ],
   "source": [
    "# 고등학교만 뽑아오기\n",
    "\n",
    "print(df[df['학교급구분'] == '고등학교']['학교명'])\n"
   ]
  },
  {
   "cell_type": "code",
   "execution_count": null,
   "metadata": {},
   "outputs": [],
   "source": []
  }
 ],
 "metadata": {
  "kernelspec": {
   "display_name": "Python 3.9.7 64-bit",
   "language": "python",
   "name": "python3"
  },
  "language_info": {
   "codemirror_mode": {
    "name": "ipython",
    "version": 3
   },
   "file_extension": ".py",
   "mimetype": "text/x-python",
   "name": "python",
   "nbconvert_exporter": "python",
   "pygments_lexer": "ipython3",
   "version": "3.9.7"
  },
  "orig_nbformat": 4,
  "vscode": {
   "interpreter": {
    "hash": "24bb3dde55cde96964be47d94f3bf158e1b3ae3758f9e29d47a28cec2351dd7d"
   }
  }
 },
 "nbformat": 4,
 "nbformat_minor": 2
}
