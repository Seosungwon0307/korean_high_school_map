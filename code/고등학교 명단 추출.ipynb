{
 "cells": [
  {
   "cell_type": "markdown",
   "metadata": {},
   "source": [
    "### csv 파일 출처\n",
    "* [나이스 교육정보 개방 포털](https://open.neis.go.kr/portal/data/service/selectServicePage.do?page=1&rows=10&sortColumn=&sortDirection=&infId=OPEN13920190311110530306647&infSeq=1#none)"
   ]
  },
  {
   "cell_type": "code",
   "execution_count": 134,
   "metadata": {},
   "outputs": [],
   "source": [
    "import requests\n",
    "import json\n",
    "\n",
    "# 위도 경도 구하기 ---- kako api\n",
    "def get_coordinate(addr):\n",
    "    url = 'https://dapi.kakao.com/v2/local/search/address.json?query={address}'.format(address=addr)\n",
    "    headers = {\"Authorization\": \"KakaoAK \" + 'cba6eb29be7c48e97d9a5cd246429cdd'}\n",
    "    result = json.loads(str(requests.get(url, headers=headers).text))\n",
    "    match_first = result['documents'][0]['address']\n",
    "    return float(match_first['x']), float(match_first['y'])"
   ]
  },
  {
   "cell_type": "markdown",
   "metadata": {},
   "source": [
    "### 행정구역_지도\n",
    "![행정구역_지도](../img/%ED%96%89%EC%A0%95%EA%B5%AC%EC%97%AD_%EC%A7%80%EB%8F%84.png)\n",
    "* [출처 | 위키백과](https://ko.wikipedia.org/wiki/%EB%8C%80%ED%95%9C%EB%AF%BC%EA%B5%AD%EC%9D%98_%ED%96%89%EC%A0%95_%EA%B5%AC%EC%97%AD)"
   ]
  },
  {
   "cell_type": "code",
   "execution_count": 135,
   "metadata": {},
   "outputs": [],
   "source": [
    "# 광역시, 특별시, 특별자치시, 특별자치도 - 다른 행정구역에 소속되지 않음 ( 광역시와 행정구역을 분리하여 생각 )\n",
    "\n",
    "# 1특별시, 6광역시, 1특별자치시, 8도, 1특별자치도\n",
    "# => 17개의 데이터 파일 생성 \n",
    "\n",
    "# html 이름은 csv 파일의 '교육청'빼고 설정"
   ]
  },
  {
   "cell_type": "code",
   "execution_count": 141,
   "metadata": {},
   "outputs": [],
   "source": [
    "# 학교 정보 크롤링(네이버)\n",
    "import requests\n",
    "from bs4 import BeautifulSoup\n",
    "\n",
    "def crawling_high_school_data(high_school_name) -> list:\n",
    "\n",
    "    url = f'https://search.naver.com/search.naver?where=nexearch&sm=top_hty&fbm=1&ie=utf8&query={high_school_name}'\n",
    " \n",
    "    response = requests.get(url)\n",
    "\n",
    "    html = response.text\n",
    "\n",
    "    soup = BeautifulSoup( html, 'html.parser' )\n",
    "\n",
    "    # 0 : 주소\n",
    "    # 1 : 전화번호\n",
    "    # 2 : 개교 연도\n",
    "    # 3 : 학생수\n",
    "    a_tag = soup.select('.home') # 홈페이지 주소\n",
    "    data  = soup.select('dd') # 주소, 전화번호, 개교 연도, 학생수 등\n",
    "\n",
    "    # 리스트에 담음\n",
    "    list_data = []\n",
    "    for i in data[:4]:\n",
    "        list_data.append(i.text)\n",
    "\n",
    "    # 홈페이지 주소 추가\n",
    "    link = []\n",
    "    for i in a_tag:\n",
    "        link.append(i.attrs['href'])\n",
    "    \n",
    "    try:\n",
    "        list_data.append(link[0])\n",
    "    except:\n",
    "        print(high_school_name)\n",
    "        return\n",
    "\n",
    "    # 0 : 주소\n",
    "    # 1 : 전화번호\n",
    "    # 2 : 개교 연도\n",
    "    # 3 : 학생수\n",
    "    # 4 : 홈페이지\n",
    "    return list_data\n",
    "    "
   ]
  },
  {
   "cell_type": "code",
   "execution_count": 142,
   "metadata": {},
   "outputs": [
    {
     "data": {
      "text/plain": [
       "['제주특별자치도 서귀포시 대정읍 일주서로2498번길 21',\n",
       " ' 064-730-0100 ',\n",
       " '1952년 06월 02일',\n",
       " '293명 남 293명, 여 0명 ',\n",
       " 'http://daejeong.jje.hs.kr']"
      ]
     },
     "execution_count": 142,
     "metadata": {},
     "output_type": "execute_result"
    }
   ],
   "source": [
    "crawling_high_school_data('대정고등학교')"
   ]
  },
  {
   "cell_type": "code",
   "execution_count": 150,
   "metadata": {},
   "outputs": [],
   "source": [
    "import pandas as pd\n",
    "\n",
    "high_schools_data = {}\n",
    "\n",
    "error = []\n",
    "\n",
    "def put_high_school_data(high_school_name, affiliations):\n",
    "    high_school_data = crawling_high_school_data(high_school_name)\n",
    "    \n",
    "    # index\n",
    "    # 0 : 주소\n",
    "    # 1 : 전화번호\n",
    "    # 2 : 개교 연도\n",
    "    # 3 : 학생수\n",
    "    # 4 : 홈페이지\n",
    "    try:\n",
    "        address = high_school_data[0]\n",
    "        phone = high_school_data[1].strip(' ')\n",
    "        birth = high_school_data[2]\n",
    "\n",
    "        # index\n",
    "        # 0 : 총 학생수\n",
    "        # 2 : 남 학생수\n",
    "        # 4 : 여 학생수\n",
    "        students_data = high_school_data[3].split(' ')\n",
    "\n",
    "        # 0 : 전체 학생수 / 2 : 남학생 수 / 4 : 여학생 수\n",
    "        if len(students_data) <= 2: # 하지만 split한 list의 길이가 2 이하이면 총 학생수만\n",
    "            total_students = students_data[0]\n",
    "            boys            = '0명'\n",
    "            girls           = '0명'\n",
    "        else:\n",
    "            total_students = students_data[0]\n",
    "            boys            = students_data[2].strip(',')\n",
    "            girls           = students_data[4]\n",
    "\n",
    "        # 경도, 위도\n",
    "        longitude, latitude = get_coordinate(high_school_data[0])\n",
    "    except:\n",
    "        error.append(high_school_name)\n",
    "        return\n",
    "    \n",
    "    link = high_school_data[4]\n",
    "    high_schools_data[high_school_name] = {\n",
    "        '주소' : address,\n",
    "        '위도' : latitude,\n",
    "        '경도' : longitude,\n",
    "        '전화번호' : phone,\n",
    "        '재학생 수' : total_students,\n",
    "        '남학생 수' : boys,\n",
    "        '여학생 수' : girls,\n",
    "        '홈페이지' : link,\n",
    "        '계열' : affiliations\n",
    "    }\n",
    "\n",
    "    "
   ]
  },
  {
   "cell_type": "code",
   "execution_count": 151,
   "metadata": {},
   "outputs": [],
   "source": [
    "put_high_school_data('대정고등학교', '일반계')"
   ]
  },
  {
   "cell_type": "code",
   "execution_count": 153,
   "metadata": {},
   "outputs": [
    {
     "name": "stdout",
     "output_type": "stream",
     "text": [
      "춘천여자고등학교부설방송통신고등학교\n",
      "고한여자종합고등학교\n",
      "설악고등학교부설방송통신고등학교\n",
      "양양여자고등학교\n",
      "함백여자고등학교\n",
      "학력인정 한국YMCA원주고등학교\n",
      "학력인정 한국YMCA원주고등학교(야간)\n",
      "하장고등학교\n",
      "원주고등학교부설방송통신고등학교\n",
      "강릉제일고등학교부설방송통신고등학교\n",
      "학력인정 강릉인문중고등학교\n",
      "묵호고등학교부설방송통신고등학교\n",
      "학력인정 강원산업중고등학교\n"
     ]
    },
    {
     "ename": "FileNotFoundError",
     "evalue": "[Errno 2] No such file or directory: '../data_csv/강원도고등학교데이터.csv경기도교육청.csv'",
     "output_type": "error",
     "traceback": [
      "\u001b[1;31m---------------------------------------------------------------------------\u001b[0m",
      "\u001b[1;31mFileNotFoundError\u001b[0m                         Traceback (most recent call last)",
      "\u001b[1;32mc:\\Users\\tjtjd\\OneDrive\\바탕 화면\\인재양성 프로젝트\\development_project\\code\\고등학교 명단 추출.ipynb 셀 9\u001b[0m in \u001b[0;36m<cell line: 12>\u001b[1;34m()\u001b[0m\n\u001b[0;32m     <a href='vscode-notebook-cell:/c%3A/Users/tjtjd/OneDrive/%EB%B0%94%ED%83%95%20%ED%99%94%EB%A9%B4/%EC%9D%B8%EC%9E%AC%EC%96%91%EC%84%B1%20%ED%94%84%EB%A1%9C%EC%A0%9D%ED%8A%B8/development_project/code/%EA%B3%A0%EB%93%B1%ED%95%99%EA%B5%90%20%EB%AA%85%EB%8B%A8%20%EC%B6%94%EC%B6%9C.ipynb#X15sZmlsZQ%3D%3D?line=9'>10</a>\u001b[0m offices_of_education_csv \u001b[39m=\u001b[39m file_list\n\u001b[0;32m     <a href='vscode-notebook-cell:/c%3A/Users/tjtjd/OneDrive/%EB%B0%94%ED%83%95%20%ED%99%94%EB%A9%B4/%EC%9D%B8%EC%9E%AC%EC%96%91%EC%84%B1%20%ED%94%84%EB%A1%9C%EC%A0%9D%ED%8A%B8/development_project/code/%EA%B3%A0%EB%93%B1%ED%95%99%EA%B5%90%20%EB%AA%85%EB%8B%A8%20%EC%B6%94%EC%B6%9C.ipynb#X15sZmlsZQ%3D%3D?line=11'>12</a>\u001b[0m \u001b[39mfor\u001b[39;00m i \u001b[39min\u001b[39;00m offices_of_education_csv:\n\u001b[1;32m---> <a href='vscode-notebook-cell:/c%3A/Users/tjtjd/OneDrive/%EB%B0%94%ED%83%95%20%ED%99%94%EB%A9%B4/%EC%9D%B8%EC%9E%AC%EC%96%91%EC%84%B1%20%ED%94%84%EB%A1%9C%EC%A0%9D%ED%8A%B8/development_project/code/%EA%B3%A0%EB%93%B1%ED%95%99%EA%B5%90%20%EB%AA%85%EB%8B%A8%20%EC%B6%94%EC%B6%9C.ipynb#X15sZmlsZQ%3D%3D?line=12'>13</a>\u001b[0m     df \u001b[39m=\u001b[39m pd\u001b[39m.\u001b[39;49mread_csv(path \u001b[39m+\u001b[39;49m i)\n\u001b[0;32m     <a href='vscode-notebook-cell:/c%3A/Users/tjtjd/OneDrive/%EB%B0%94%ED%83%95%20%ED%99%94%EB%A9%B4/%EC%9D%B8%EC%9E%AC%EC%96%91%EC%84%B1%20%ED%94%84%EB%A1%9C%EC%A0%9D%ED%8A%B8/development_project/code/%EA%B3%A0%EB%93%B1%ED%95%99%EA%B5%90%20%EB%AA%85%EB%8B%A8%20%EC%B6%94%EC%B6%9C.ipynb#X15sZmlsZQ%3D%3D?line=14'>15</a>\u001b[0m     high_school_names \u001b[39m=\u001b[39m \u001b[39mlist\u001b[39m(\u001b[39mset\u001b[39m(df[\u001b[39m'\u001b[39m\u001b[39m학교명\u001b[39m\u001b[39m'\u001b[39m]))\n\u001b[0;32m     <a href='vscode-notebook-cell:/c%3A/Users/tjtjd/OneDrive/%EB%B0%94%ED%83%95%20%ED%99%94%EB%A9%B4/%EC%9D%B8%EC%9E%AC%EC%96%91%EC%84%B1%20%ED%94%84%EB%A1%9C%EC%A0%9D%ED%8A%B8/development_project/code/%EA%B3%A0%EB%93%B1%ED%95%99%EA%B5%90%20%EB%AA%85%EB%8B%A8%20%EC%B6%94%EC%B6%9C.ipynb#X15sZmlsZQ%3D%3D?line=16'>17</a>\u001b[0m     \u001b[39mfor\u001b[39;00m j \u001b[39min\u001b[39;00m high_school_names:\n\u001b[0;32m     <a href='vscode-notebook-cell:/c%3A/Users/tjtjd/OneDrive/%EB%B0%94%ED%83%95%20%ED%99%94%EB%A9%B4/%EC%9D%B8%EC%9E%AC%EC%96%91%EC%84%B1%20%ED%94%84%EB%A1%9C%EC%A0%9D%ED%8A%B8/development_project/code/%EA%B3%A0%EB%93%B1%ED%95%99%EA%B5%90%20%EB%AA%85%EB%8B%A8%20%EC%B6%94%EC%B6%9C.ipynb#X15sZmlsZQ%3D%3D?line=17'>18</a>\u001b[0m         \u001b[39m# 학교 계열\u001b[39;00m\n",
      "File \u001b[1;32mc:\\Users\\tjtjd\\AppData\\Local\\Programs\\Python\\Python39\\lib\\site-packages\\pandas\\util\\_decorators.py:311\u001b[0m, in \u001b[0;36mdeprecate_nonkeyword_arguments.<locals>.decorate.<locals>.wrapper\u001b[1;34m(*args, **kwargs)\u001b[0m\n\u001b[0;32m    305\u001b[0m \u001b[39mif\u001b[39;00m \u001b[39mlen\u001b[39m(args) \u001b[39m>\u001b[39m num_allow_args:\n\u001b[0;32m    306\u001b[0m     warnings\u001b[39m.\u001b[39mwarn(\n\u001b[0;32m    307\u001b[0m         msg\u001b[39m.\u001b[39mformat(arguments\u001b[39m=\u001b[39marguments),\n\u001b[0;32m    308\u001b[0m         \u001b[39mFutureWarning\u001b[39;00m,\n\u001b[0;32m    309\u001b[0m         stacklevel\u001b[39m=\u001b[39mstacklevel,\n\u001b[0;32m    310\u001b[0m     )\n\u001b[1;32m--> 311\u001b[0m \u001b[39mreturn\u001b[39;00m func(\u001b[39m*\u001b[39margs, \u001b[39m*\u001b[39m\u001b[39m*\u001b[39mkwargs)\n",
      "File \u001b[1;32mc:\\Users\\tjtjd\\AppData\\Local\\Programs\\Python\\Python39\\lib\\site-packages\\pandas\\io\\parsers\\readers.py:680\u001b[0m, in \u001b[0;36mread_csv\u001b[1;34m(filepath_or_buffer, sep, delimiter, header, names, index_col, usecols, squeeze, prefix, mangle_dupe_cols, dtype, engine, converters, true_values, false_values, skipinitialspace, skiprows, skipfooter, nrows, na_values, keep_default_na, na_filter, verbose, skip_blank_lines, parse_dates, infer_datetime_format, keep_date_col, date_parser, dayfirst, cache_dates, iterator, chunksize, compression, thousands, decimal, lineterminator, quotechar, quoting, doublequote, escapechar, comment, encoding, encoding_errors, dialect, error_bad_lines, warn_bad_lines, on_bad_lines, delim_whitespace, low_memory, memory_map, float_precision, storage_options)\u001b[0m\n\u001b[0;32m    665\u001b[0m kwds_defaults \u001b[39m=\u001b[39m _refine_defaults_read(\n\u001b[0;32m    666\u001b[0m     dialect,\n\u001b[0;32m    667\u001b[0m     delimiter,\n\u001b[1;32m   (...)\u001b[0m\n\u001b[0;32m    676\u001b[0m     defaults\u001b[39m=\u001b[39m{\u001b[39m\"\u001b[39m\u001b[39mdelimiter\u001b[39m\u001b[39m\"\u001b[39m: \u001b[39m\"\u001b[39m\u001b[39m,\u001b[39m\u001b[39m\"\u001b[39m},\n\u001b[0;32m    677\u001b[0m )\n\u001b[0;32m    678\u001b[0m kwds\u001b[39m.\u001b[39mupdate(kwds_defaults)\n\u001b[1;32m--> 680\u001b[0m \u001b[39mreturn\u001b[39;00m _read(filepath_or_buffer, kwds)\n",
      "File \u001b[1;32mc:\\Users\\tjtjd\\AppData\\Local\\Programs\\Python\\Python39\\lib\\site-packages\\pandas\\io\\parsers\\readers.py:575\u001b[0m, in \u001b[0;36m_read\u001b[1;34m(filepath_or_buffer, kwds)\u001b[0m\n\u001b[0;32m    572\u001b[0m _validate_names(kwds\u001b[39m.\u001b[39mget(\u001b[39m\"\u001b[39m\u001b[39mnames\u001b[39m\u001b[39m\"\u001b[39m, \u001b[39mNone\u001b[39;00m))\n\u001b[0;32m    574\u001b[0m \u001b[39m# Create the parser.\u001b[39;00m\n\u001b[1;32m--> 575\u001b[0m parser \u001b[39m=\u001b[39m TextFileReader(filepath_or_buffer, \u001b[39m*\u001b[39m\u001b[39m*\u001b[39mkwds)\n\u001b[0;32m    577\u001b[0m \u001b[39mif\u001b[39;00m chunksize \u001b[39mor\u001b[39;00m iterator:\n\u001b[0;32m    578\u001b[0m     \u001b[39mreturn\u001b[39;00m parser\n",
      "File \u001b[1;32mc:\\Users\\tjtjd\\AppData\\Local\\Programs\\Python\\Python39\\lib\\site-packages\\pandas\\io\\parsers\\readers.py:933\u001b[0m, in \u001b[0;36mTextFileReader.__init__\u001b[1;34m(self, f, engine, **kwds)\u001b[0m\n\u001b[0;32m    930\u001b[0m     \u001b[39mself\u001b[39m\u001b[39m.\u001b[39moptions[\u001b[39m\"\u001b[39m\u001b[39mhas_index_names\u001b[39m\u001b[39m\"\u001b[39m] \u001b[39m=\u001b[39m kwds[\u001b[39m\"\u001b[39m\u001b[39mhas_index_names\u001b[39m\u001b[39m\"\u001b[39m]\n\u001b[0;32m    932\u001b[0m \u001b[39mself\u001b[39m\u001b[39m.\u001b[39mhandles: IOHandles \u001b[39m|\u001b[39m \u001b[39mNone\u001b[39;00m \u001b[39m=\u001b[39m \u001b[39mNone\u001b[39;00m\n\u001b[1;32m--> 933\u001b[0m \u001b[39mself\u001b[39m\u001b[39m.\u001b[39m_engine \u001b[39m=\u001b[39m \u001b[39mself\u001b[39;49m\u001b[39m.\u001b[39;49m_make_engine(f, \u001b[39mself\u001b[39;49m\u001b[39m.\u001b[39;49mengine)\n",
      "File \u001b[1;32mc:\\Users\\tjtjd\\AppData\\Local\\Programs\\Python\\Python39\\lib\\site-packages\\pandas\\io\\parsers\\readers.py:1217\u001b[0m, in \u001b[0;36mTextFileReader._make_engine\u001b[1;34m(self, f, engine)\u001b[0m\n\u001b[0;32m   1213\u001b[0m     mode \u001b[39m=\u001b[39m \u001b[39m\"\u001b[39m\u001b[39mrb\u001b[39m\u001b[39m\"\u001b[39m\n\u001b[0;32m   1214\u001b[0m \u001b[39m# error: No overload variant of \"get_handle\" matches argument types\u001b[39;00m\n\u001b[0;32m   1215\u001b[0m \u001b[39m# \"Union[str, PathLike[str], ReadCsvBuffer[bytes], ReadCsvBuffer[str]]\"\u001b[39;00m\n\u001b[0;32m   1216\u001b[0m \u001b[39m# , \"str\", \"bool\", \"Any\", \"Any\", \"Any\", \"Any\", \"Any\"\u001b[39;00m\n\u001b[1;32m-> 1217\u001b[0m \u001b[39mself\u001b[39m\u001b[39m.\u001b[39mhandles \u001b[39m=\u001b[39m get_handle(  \u001b[39m# type: ignore[call-overload]\u001b[39;49;00m\n\u001b[0;32m   1218\u001b[0m     f,\n\u001b[0;32m   1219\u001b[0m     mode,\n\u001b[0;32m   1220\u001b[0m     encoding\u001b[39m=\u001b[39;49m\u001b[39mself\u001b[39;49m\u001b[39m.\u001b[39;49moptions\u001b[39m.\u001b[39;49mget(\u001b[39m\"\u001b[39;49m\u001b[39mencoding\u001b[39;49m\u001b[39m\"\u001b[39;49m, \u001b[39mNone\u001b[39;49;00m),\n\u001b[0;32m   1221\u001b[0m     compression\u001b[39m=\u001b[39;49m\u001b[39mself\u001b[39;49m\u001b[39m.\u001b[39;49moptions\u001b[39m.\u001b[39;49mget(\u001b[39m\"\u001b[39;49m\u001b[39mcompression\u001b[39;49m\u001b[39m\"\u001b[39;49m, \u001b[39mNone\u001b[39;49;00m),\n\u001b[0;32m   1222\u001b[0m     memory_map\u001b[39m=\u001b[39;49m\u001b[39mself\u001b[39;49m\u001b[39m.\u001b[39;49moptions\u001b[39m.\u001b[39;49mget(\u001b[39m\"\u001b[39;49m\u001b[39mmemory_map\u001b[39;49m\u001b[39m\"\u001b[39;49m, \u001b[39mFalse\u001b[39;49;00m),\n\u001b[0;32m   1223\u001b[0m     is_text\u001b[39m=\u001b[39;49mis_text,\n\u001b[0;32m   1224\u001b[0m     errors\u001b[39m=\u001b[39;49m\u001b[39mself\u001b[39;49m\u001b[39m.\u001b[39;49moptions\u001b[39m.\u001b[39;49mget(\u001b[39m\"\u001b[39;49m\u001b[39mencoding_errors\u001b[39;49m\u001b[39m\"\u001b[39;49m, \u001b[39m\"\u001b[39;49m\u001b[39mstrict\u001b[39;49m\u001b[39m\"\u001b[39;49m),\n\u001b[0;32m   1225\u001b[0m     storage_options\u001b[39m=\u001b[39;49m\u001b[39mself\u001b[39;49m\u001b[39m.\u001b[39;49moptions\u001b[39m.\u001b[39;49mget(\u001b[39m\"\u001b[39;49m\u001b[39mstorage_options\u001b[39;49m\u001b[39m\"\u001b[39;49m, \u001b[39mNone\u001b[39;49;00m),\n\u001b[0;32m   1226\u001b[0m )\n\u001b[0;32m   1227\u001b[0m \u001b[39massert\u001b[39;00m \u001b[39mself\u001b[39m\u001b[39m.\u001b[39mhandles \u001b[39mis\u001b[39;00m \u001b[39mnot\u001b[39;00m \u001b[39mNone\u001b[39;00m\n\u001b[0;32m   1228\u001b[0m f \u001b[39m=\u001b[39m \u001b[39mself\u001b[39m\u001b[39m.\u001b[39mhandles\u001b[39m.\u001b[39mhandle\n",
      "File \u001b[1;32mc:\\Users\\tjtjd\\AppData\\Local\\Programs\\Python\\Python39\\lib\\site-packages\\pandas\\io\\common.py:789\u001b[0m, in \u001b[0;36mget_handle\u001b[1;34m(path_or_buf, mode, encoding, compression, memory_map, is_text, errors, storage_options)\u001b[0m\n\u001b[0;32m    784\u001b[0m \u001b[39melif\u001b[39;00m \u001b[39misinstance\u001b[39m(handle, \u001b[39mstr\u001b[39m):\n\u001b[0;32m    785\u001b[0m     \u001b[39m# Check whether the filename is to be opened in binary mode.\u001b[39;00m\n\u001b[0;32m    786\u001b[0m     \u001b[39m# Binary mode does not support 'encoding' and 'newline'.\u001b[39;00m\n\u001b[0;32m    787\u001b[0m     \u001b[39mif\u001b[39;00m ioargs\u001b[39m.\u001b[39mencoding \u001b[39mand\u001b[39;00m \u001b[39m\"\u001b[39m\u001b[39mb\u001b[39m\u001b[39m\"\u001b[39m \u001b[39mnot\u001b[39;00m \u001b[39min\u001b[39;00m ioargs\u001b[39m.\u001b[39mmode:\n\u001b[0;32m    788\u001b[0m         \u001b[39m# Encoding\u001b[39;00m\n\u001b[1;32m--> 789\u001b[0m         handle \u001b[39m=\u001b[39m \u001b[39mopen\u001b[39;49m(\n\u001b[0;32m    790\u001b[0m             handle,\n\u001b[0;32m    791\u001b[0m             ioargs\u001b[39m.\u001b[39;49mmode,\n\u001b[0;32m    792\u001b[0m             encoding\u001b[39m=\u001b[39;49mioargs\u001b[39m.\u001b[39;49mencoding,\n\u001b[0;32m    793\u001b[0m             errors\u001b[39m=\u001b[39;49merrors,\n\u001b[0;32m    794\u001b[0m             newline\u001b[39m=\u001b[39;49m\u001b[39m\"\u001b[39;49m\u001b[39m\"\u001b[39;49m,\n\u001b[0;32m    795\u001b[0m         )\n\u001b[0;32m    796\u001b[0m     \u001b[39melse\u001b[39;00m:\n\u001b[0;32m    797\u001b[0m         \u001b[39m# Binary mode\u001b[39;00m\n\u001b[0;32m    798\u001b[0m         handle \u001b[39m=\u001b[39m \u001b[39mopen\u001b[39m(handle, ioargs\u001b[39m.\u001b[39mmode)\n",
      "\u001b[1;31mFileNotFoundError\u001b[0m: [Errno 2] No such file or directory: '../data_csv/강원도고등학교데이터.csv경기도교육청.csv'"
     ]
    }
   ],
   "source": [
    "\n",
    "# 딕셔너리에 집어넣고 csv 파일 만듦\n",
    "\n",
    "import os\n",
    "import pandas as pd\n",
    "\n",
    "path = '../code/교육청_csv/'\n",
    "\n",
    "file_list = os.listdir(path) # 폴더 안 파일 목록 가져옴\n",
    "\n",
    "offices_of_education_csv = file_list\n",
    "\n",
    "for i in offices_of_education_csv:\n",
    "    path = '../code/교육청_csv/'\n",
    "    \n",
    "    df = pd.read_csv(path + i)\n",
    "\n",
    "    high_school_names = list(set(df['학교명']))\n",
    "\n",
    "    for j in high_school_names:\n",
    "        # 학교 계열\n",
    "        _list = list(df[df['학교명'] == j]['계열명'])\n",
    "        affiliations = ''\n",
    "        for k in _list:\n",
    "            affiliations += k + ' '\n",
    "            if _list[-1] != k:\n",
    "                affiliations += ', '\n",
    "\n",
    "        put_high_school_data(j, affiliations) \n",
    "\n",
    "    high_school_dataframe = pd.DataFrame(high_schools_data).T\n",
    "    csv_name = i.strip('교육청.csv') + '고등학교데이터.csv'\n",
    "    path = '../data_csv/' + csv_name\n",
    "    high_school_dataframe.to_csv(path)\n"
   ]
  },
  {
   "cell_type": "code",
   "execution_count": null,
   "metadata": {},
   "outputs": [],
   "source": [
    "# 로고 주소 공식\n",
    "# 홈페이지 주소 + / + img src\n"
   ]
  },
  {
   "cell_type": "code",
   "execution_count": null,
   "metadata": {},
   "outputs": [],
   "source": []
  }
 ],
 "metadata": {
  "kernelspec": {
   "display_name": "Python 3.9.13 64-bit",
   "language": "python",
   "name": "python3"
  },
  "language_info": {
   "codemirror_mode": {
    "name": "ipython",
    "version": 3
   },
   "file_extension": ".py",
   "mimetype": "text/x-python",
   "name": "python",
   "nbconvert_exporter": "python",
   "pygments_lexer": "ipython3",
   "version": "3.9.13"
  },
  "orig_nbformat": 4,
  "vscode": {
   "interpreter": {
    "hash": "889e092ed79d0679d51c01863d8194039306ffb1c431be74a2a0c69e66854ced"
   }
  }
 },
 "nbformat": 4,
 "nbformat_minor": 2
}
