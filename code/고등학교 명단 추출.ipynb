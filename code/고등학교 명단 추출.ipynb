{
 "cells": [
  {
   "cell_type": "markdown",
   "metadata": {},
   "source": [
    "### csv 파일 출처\n",
    "* [나이스 교육정보 개방 포털](https://open.neis.go.kr/portal/data/service/selectServicePage.do?page=1&rows=10&sortColumn=&sortDirection=&infId=OPEN13920190311110530306647&infSeq=1#none)"
   ]
  },
  {
   "cell_type": "code",
   "execution_count": 134,
   "metadata": {},
   "outputs": [],
   "source": [
    "import requests\n",
    "import json\n",
    "\n",
    "# 위도 경도 구하기 ---- kako api\n",
    "def get_coordinate(addr):\n",
    "    url = 'https://dapi.kakao.com/v2/local/search/address.json?query={address}'.format(address=addr)\n",
    "    headers = {\"Authorization\": \"KakaoAK \" + 'cba6eb29be7c48e97d9a5cd246429cdd'}\n",
    "    result = json.loads(str(requests.get(url, headers=headers).text))\n",
    "    match_first = result['documents'][0]['address']\n",
    "    return float(match_first['x']), float(match_first['y'])"
   ]
  },
  {
   "cell_type": "markdown",
   "metadata": {},
   "source": [
    "### 행정구역_지도\n",
    "![행정구역_지도](../img/%ED%96%89%EC%A0%95%EA%B5%AC%EC%97%AD_%EC%A7%80%EB%8F%84.png)\n",
    "* [출처 | 위키백과](https://ko.wikipedia.org/wiki/%EB%8C%80%ED%95%9C%EB%AF%BC%EA%B5%AD%EC%9D%98_%ED%96%89%EC%A0%95_%EA%B5%AC%EC%97%AD)"
   ]
  },
  {
   "cell_type": "code",
   "execution_count": 135,
   "metadata": {},
   "outputs": [],
   "source": [
    "# 광역시, 특별시, 특별자치시, 특별자치도 - 다른 행정구역에 소속되지 않음 ( 광역시와 행정구역을 분리하여 생각 )\n",
    "\n",
    "# 1특별시, 6광역시, 1특별자치시, 8도, 1특별자치도\n",
    "# => 17개의 데이터 파일 생성 \n",
    "\n",
    "# html 이름은 csv 파일의 '교육청'빼고 설정"
   ]
  },
  {
   "cell_type": "code",
   "execution_count": 156,
   "metadata": {},
   "outputs": [],
   "source": [
    "# 학교 정보 크롤링(네이버)\n",
    "import requests\n",
    "from bs4 import BeautifulSoup\n",
    "\n",
    "error = []\n",
    "\n",
    "def crawling_high_school_data(high_school_name) -> list:\n",
    "\n",
    "    url = f'https://search.naver.com/search.naver?where=nexearch&sm=top_hty&fbm=1&ie=utf8&query={high_school_name}'\n",
    " \n",
    "    response = requests.get(url)\n",
    "\n",
    "    html = response.text\n",
    "\n",
    "    soup = BeautifulSoup( html, 'html.parser' )\n",
    "\n",
    "    # 0 : 주소\n",
    "    # 1 : 전화번호\n",
    "    # 2 : 개교 연도\n",
    "    # 3 : 학생수\n",
    "    a_tag = soup.select('.home') # 홈페이지 주소\n",
    "    data  = soup.select('dd') # 주소, 전화번호, 개교 연도, 학생수 등\n",
    "\n",
    "    # 리스트에 담음\n",
    "    list_data = []\n",
    "    for i in data[:4]:\n",
    "        list_data.append(i.text)\n",
    "\n",
    "    # 홈페이지 주소 추가\n",
    "    link = []\n",
    "    for i in a_tag:\n",
    "        link.append(i.attrs['href'])\n",
    "    \n",
    "    try:\n",
    "        list_data.append(link[0])\n",
    "    except:\n",
    "        error.append(high_school_name)\n",
    "        return\n",
    "\n",
    "    # 0 : 주소\n",
    "    # 1 : 전화번호\n",
    "    # 2 : 개교 연도\n",
    "    # 3 : 학생수\n",
    "    # 4 : 홈페이지\n",
    "    return list_data\n",
    "    "
   ]
  },
  {
   "cell_type": "code",
   "execution_count": 157,
   "metadata": {},
   "outputs": [
    {
     "data": {
      "text/plain": [
       "['제주특별자치도 서귀포시 대정읍 일주서로2498번길 21',\n",
       " ' 064-730-0100 ',\n",
       " '1952년 06월 02일',\n",
       " '293명 남 293명, 여 0명 ',\n",
       " 'http://daejeong.jje.hs.kr']"
      ]
     },
     "execution_count": 157,
     "metadata": {},
     "output_type": "execute_result"
    }
   ],
   "source": [
    "crawling_high_school_data('대정고등학교')"
   ]
  },
  {
   "cell_type": "code",
   "execution_count": 158,
   "metadata": {},
   "outputs": [],
   "source": [
    "import pandas as pd\n",
    "\n",
    "high_schools_data = {}\n",
    "\n",
    "def put_high_school_data(high_school_name, affiliations):\n",
    "    high_school_data = crawling_high_school_data(high_school_name)\n",
    "    \n",
    "    # index\n",
    "    # 0 : 주소\n",
    "    # 1 : 전화번호\n",
    "    # 2 : 개교 연도\n",
    "    # 3 : 학생수\n",
    "    # 4 : 홈페이지\n",
    "    try:\n",
    "        address = high_school_data[0]\n",
    "        phone = high_school_data[1].strip(' ')\n",
    "        birth = high_school_data[2]\n",
    "\n",
    "        # index\n",
    "        # 0 : 총 학생수\n",
    "        # 2 : 남 학생수\n",
    "        # 4 : 여 학생수\n",
    "        students_data = high_school_data[3].split(' ')\n",
    "\n",
    "        # 0 : 전체 학생수 / 2 : 남학생 수 / 4 : 여학생 수\n",
    "        if len(students_data) <= 2: # 하지만 split한 list의 길이가 2 이하이면 총 학생수만\n",
    "            total_students = students_data[0]\n",
    "            boys            = '0명'\n",
    "            girls           = '0명'\n",
    "        else:\n",
    "            total_students = students_data[0]\n",
    "            boys            = students_data[2].strip(',')\n",
    "            girls           = students_data[4]\n",
    "\n",
    "        # 경도, 위도\n",
    "        longitude, latitude = get_coordinate(high_school_data[0])\n",
    "    except:\n",
    "        error.append(high_school_name)\n",
    "        return\n",
    "    \n",
    "    link = high_school_data[4]\n",
    "    high_schools_data[high_school_name] = {\n",
    "        '주소' : address,\n",
    "        '위도' : latitude,\n",
    "        '경도' : longitude,\n",
    "        '전화번호' : phone,\n",
    "        '재학생 수' : total_students,\n",
    "        '남학생 수' : boys,\n",
    "        '여학생 수' : girls,\n",
    "        '홈페이지' : link,\n",
    "        '계열' : affiliations\n",
    "    }\n",
    "\n",
    "    "
   ]
  },
  {
   "cell_type": "code",
   "execution_count": 159,
   "metadata": {},
   "outputs": [],
   "source": [
    "put_high_school_data('대정고등학교', '일반계')"
   ]
  },
  {
   "cell_type": "code",
   "execution_count": 160,
   "metadata": {},
   "outputs": [
    {
     "ename": "KeyboardInterrupt",
     "evalue": "",
     "output_type": "error",
     "traceback": [
      "\u001b[1;31m---------------------------------------------------------------------------\u001b[0m",
      "\u001b[1;31mKeyboardInterrupt\u001b[0m                         Traceback (most recent call last)",
      "\u001b[1;32mc:\\Users\\tjtjd\\OneDrive\\바탕 화면\\인재양성 프로젝트\\development_project\\code\\고등학교 명단 추출.ipynb 셀 9\u001b[0m in \u001b[0;36m<cell line: 10>\u001b[1;34m()\u001b[0m\n\u001b[0;32m     <a href='vscode-notebook-cell:/c%3A/Users/tjtjd/OneDrive/%EB%B0%94%ED%83%95%20%ED%99%94%EB%A9%B4/%EC%9D%B8%EC%9E%AC%EC%96%91%EC%84%B1%20%ED%94%84%EB%A1%9C%EC%A0%9D%ED%8A%B8/development_project/code/%EA%B3%A0%EB%93%B1%ED%95%99%EA%B5%90%20%EB%AA%85%EB%8B%A8%20%EC%B6%94%EC%B6%9C.ipynb#X15sZmlsZQ%3D%3D?line=20'>21</a>\u001b[0m         \u001b[39mif\u001b[39;00m _list[\u001b[39m-\u001b[39m\u001b[39m1\u001b[39m] \u001b[39m!=\u001b[39m k:\n\u001b[0;32m     <a href='vscode-notebook-cell:/c%3A/Users/tjtjd/OneDrive/%EB%B0%94%ED%83%95%20%ED%99%94%EB%A9%B4/%EC%9D%B8%EC%9E%AC%EC%96%91%EC%84%B1%20%ED%94%84%EB%A1%9C%EC%A0%9D%ED%8A%B8/development_project/code/%EA%B3%A0%EB%93%B1%ED%95%99%EA%B5%90%20%EB%AA%85%EB%8B%A8%20%EC%B6%94%EC%B6%9C.ipynb#X15sZmlsZQ%3D%3D?line=21'>22</a>\u001b[0m             affiliations \u001b[39m+\u001b[39m\u001b[39m=\u001b[39m \u001b[39m'\u001b[39m\u001b[39m, \u001b[39m\u001b[39m'\u001b[39m\n\u001b[1;32m---> <a href='vscode-notebook-cell:/c%3A/Users/tjtjd/OneDrive/%EB%B0%94%ED%83%95%20%ED%99%94%EB%A9%B4/%EC%9D%B8%EC%9E%AC%EC%96%91%EC%84%B1%20%ED%94%84%EB%A1%9C%EC%A0%9D%ED%8A%B8/development_project/code/%EA%B3%A0%EB%93%B1%ED%95%99%EA%B5%90%20%EB%AA%85%EB%8B%A8%20%EC%B6%94%EC%B6%9C.ipynb#X15sZmlsZQ%3D%3D?line=23'>24</a>\u001b[0m     put_high_school_data(j, affiliations) \n\u001b[0;32m     <a href='vscode-notebook-cell:/c%3A/Users/tjtjd/OneDrive/%EB%B0%94%ED%83%95%20%ED%99%94%EB%A9%B4/%EC%9D%B8%EC%9E%AC%EC%96%91%EC%84%B1%20%ED%94%84%EB%A1%9C%EC%A0%9D%ED%8A%B8/development_project/code/%EA%B3%A0%EB%93%B1%ED%95%99%EA%B5%90%20%EB%AA%85%EB%8B%A8%20%EC%B6%94%EC%B6%9C.ipynb#X15sZmlsZQ%3D%3D?line=25'>26</a>\u001b[0m high_school_dataframe \u001b[39m=\u001b[39m pd\u001b[39m.\u001b[39mDataFrame(high_schools_data)\u001b[39m.\u001b[39mT\n\u001b[0;32m     <a href='vscode-notebook-cell:/c%3A/Users/tjtjd/OneDrive/%EB%B0%94%ED%83%95%20%ED%99%94%EB%A9%B4/%EC%9D%B8%EC%9E%AC%EC%96%91%EC%84%B1%20%ED%94%84%EB%A1%9C%EC%A0%9D%ED%8A%B8/development_project/code/%EA%B3%A0%EB%93%B1%ED%95%99%EA%B5%90%20%EB%AA%85%EB%8B%A8%20%EC%B6%94%EC%B6%9C.ipynb#X15sZmlsZQ%3D%3D?line=26'>27</a>\u001b[0m csv_name \u001b[39m=\u001b[39m i\u001b[39m.\u001b[39mstrip(\u001b[39m'\u001b[39m\u001b[39m교육청.csv\u001b[39m\u001b[39m'\u001b[39m) \u001b[39m+\u001b[39m \u001b[39m'\u001b[39m\u001b[39m고등학교데이터.csv\u001b[39m\u001b[39m'\u001b[39m\n",
      "\u001b[1;32mc:\\Users\\tjtjd\\OneDrive\\바탕 화면\\인재양성 프로젝트\\development_project\\code\\고등학교 명단 추출.ipynb 셀 9\u001b[0m in \u001b[0;36mput_high_school_data\u001b[1;34m(high_school_name, affiliations)\u001b[0m\n\u001b[0;32m      <a href='vscode-notebook-cell:/c%3A/Users/tjtjd/OneDrive/%EB%B0%94%ED%83%95%20%ED%99%94%EB%A9%B4/%EC%9D%B8%EC%9E%AC%EC%96%91%EC%84%B1%20%ED%94%84%EB%A1%9C%EC%A0%9D%ED%8A%B8/development_project/code/%EA%B3%A0%EB%93%B1%ED%95%99%EA%B5%90%20%EB%AA%85%EB%8B%A8%20%EC%B6%94%EC%B6%9C.ipynb#X15sZmlsZQ%3D%3D?line=4'>5</a>\u001b[0m \u001b[39mdef\u001b[39;00m \u001b[39mput_high_school_data\u001b[39m(high_school_name, affiliations):\n\u001b[1;32m----> <a href='vscode-notebook-cell:/c%3A/Users/tjtjd/OneDrive/%EB%B0%94%ED%83%95%20%ED%99%94%EB%A9%B4/%EC%9D%B8%EC%9E%AC%EC%96%91%EC%84%B1%20%ED%94%84%EB%A1%9C%EC%A0%9D%ED%8A%B8/development_project/code/%EA%B3%A0%EB%93%B1%ED%95%99%EA%B5%90%20%EB%AA%85%EB%8B%A8%20%EC%B6%94%EC%B6%9C.ipynb#X15sZmlsZQ%3D%3D?line=5'>6</a>\u001b[0m     high_school_data \u001b[39m=\u001b[39m crawling_high_school_data(high_school_name)\n\u001b[0;32m      <a href='vscode-notebook-cell:/c%3A/Users/tjtjd/OneDrive/%EB%B0%94%ED%83%95%20%ED%99%94%EB%A9%B4/%EC%9D%B8%EC%9E%AC%EC%96%91%EC%84%B1%20%ED%94%84%EB%A1%9C%EC%A0%9D%ED%8A%B8/development_project/code/%EA%B3%A0%EB%93%B1%ED%95%99%EA%B5%90%20%EB%AA%85%EB%8B%A8%20%EC%B6%94%EC%B6%9C.ipynb#X15sZmlsZQ%3D%3D?line=7'>8</a>\u001b[0m     \u001b[39m# index\u001b[39;00m\n\u001b[0;32m      <a href='vscode-notebook-cell:/c%3A/Users/tjtjd/OneDrive/%EB%B0%94%ED%83%95%20%ED%99%94%EB%A9%B4/%EC%9D%B8%EC%9E%AC%EC%96%91%EC%84%B1%20%ED%94%84%EB%A1%9C%EC%A0%9D%ED%8A%B8/development_project/code/%EA%B3%A0%EB%93%B1%ED%95%99%EA%B5%90%20%EB%AA%85%EB%8B%A8%20%EC%B6%94%EC%B6%9C.ipynb#X15sZmlsZQ%3D%3D?line=8'>9</a>\u001b[0m     \u001b[39m# 0 : 주소\u001b[39;00m\n\u001b[0;32m     <a href='vscode-notebook-cell:/c%3A/Users/tjtjd/OneDrive/%EB%B0%94%ED%83%95%20%ED%99%94%EB%A9%B4/%EC%9D%B8%EC%9E%AC%EC%96%91%EC%84%B1%20%ED%94%84%EB%A1%9C%EC%A0%9D%ED%8A%B8/development_project/code/%EA%B3%A0%EB%93%B1%ED%95%99%EA%B5%90%20%EB%AA%85%EB%8B%A8%20%EC%B6%94%EC%B6%9C.ipynb#X15sZmlsZQ%3D%3D?line=9'>10</a>\u001b[0m     \u001b[39m# 1 : 전화번호\u001b[39;00m\n\u001b[0;32m     <a href='vscode-notebook-cell:/c%3A/Users/tjtjd/OneDrive/%EB%B0%94%ED%83%95%20%ED%99%94%EB%A9%B4/%EC%9D%B8%EC%9E%AC%EC%96%91%EC%84%B1%20%ED%94%84%EB%A1%9C%EC%A0%9D%ED%8A%B8/development_project/code/%EA%B3%A0%EB%93%B1%ED%95%99%EA%B5%90%20%EB%AA%85%EB%8B%A8%20%EC%B6%94%EC%B6%9C.ipynb#X15sZmlsZQ%3D%3D?line=10'>11</a>\u001b[0m     \u001b[39m# 2 : 개교 연도\u001b[39;00m\n\u001b[0;32m     <a href='vscode-notebook-cell:/c%3A/Users/tjtjd/OneDrive/%EB%B0%94%ED%83%95%20%ED%99%94%EB%A9%B4/%EC%9D%B8%EC%9E%AC%EC%96%91%EC%84%B1%20%ED%94%84%EB%A1%9C%EC%A0%9D%ED%8A%B8/development_project/code/%EA%B3%A0%EB%93%B1%ED%95%99%EA%B5%90%20%EB%AA%85%EB%8B%A8%20%EC%B6%94%EC%B6%9C.ipynb#X15sZmlsZQ%3D%3D?line=11'>12</a>\u001b[0m     \u001b[39m# 3 : 학생수\u001b[39;00m\n\u001b[0;32m     <a href='vscode-notebook-cell:/c%3A/Users/tjtjd/OneDrive/%EB%B0%94%ED%83%95%20%ED%99%94%EB%A9%B4/%EC%9D%B8%EC%9E%AC%EC%96%91%EC%84%B1%20%ED%94%84%EB%A1%9C%EC%A0%9D%ED%8A%B8/development_project/code/%EA%B3%A0%EB%93%B1%ED%95%99%EA%B5%90%20%EB%AA%85%EB%8B%A8%20%EC%B6%94%EC%B6%9C.ipynb#X15sZmlsZQ%3D%3D?line=12'>13</a>\u001b[0m     \u001b[39m# 4 : 홈페이지\u001b[39;00m\n\u001b[0;32m     <a href='vscode-notebook-cell:/c%3A/Users/tjtjd/OneDrive/%EB%B0%94%ED%83%95%20%ED%99%94%EB%A9%B4/%EC%9D%B8%EC%9E%AC%EC%96%91%EC%84%B1%20%ED%94%84%EB%A1%9C%EC%A0%9D%ED%8A%B8/development_project/code/%EA%B3%A0%EB%93%B1%ED%95%99%EA%B5%90%20%EB%AA%85%EB%8B%A8%20%EC%B6%94%EC%B6%9C.ipynb#X15sZmlsZQ%3D%3D?line=13'>14</a>\u001b[0m     \u001b[39mtry\u001b[39;00m:\n",
      "\u001b[1;32mc:\\Users\\tjtjd\\OneDrive\\바탕 화면\\인재양성 프로젝트\\development_project\\code\\고등학교 명단 추출.ipynb 셀 9\u001b[0m in \u001b[0;36mcrawling_high_school_data\u001b[1;34m(high_school_name)\u001b[0m\n\u001b[0;32m     <a href='vscode-notebook-cell:/c%3A/Users/tjtjd/OneDrive/%EB%B0%94%ED%83%95%20%ED%99%94%EB%A9%B4/%EC%9D%B8%EC%9E%AC%EC%96%91%EC%84%B1%20%ED%94%84%EB%A1%9C%EC%A0%9D%ED%8A%B8/development_project/code/%EA%B3%A0%EB%93%B1%ED%95%99%EA%B5%90%20%EB%AA%85%EB%8B%A8%20%EC%B6%94%EC%B6%9C.ipynb#X15sZmlsZQ%3D%3D?line=10'>11</a>\u001b[0m response \u001b[39m=\u001b[39m requests\u001b[39m.\u001b[39mget(url)\n\u001b[0;32m     <a href='vscode-notebook-cell:/c%3A/Users/tjtjd/OneDrive/%EB%B0%94%ED%83%95%20%ED%99%94%EB%A9%B4/%EC%9D%B8%EC%9E%AC%EC%96%91%EC%84%B1%20%ED%94%84%EB%A1%9C%EC%A0%9D%ED%8A%B8/development_project/code/%EA%B3%A0%EB%93%B1%ED%95%99%EA%B5%90%20%EB%AA%85%EB%8B%A8%20%EC%B6%94%EC%B6%9C.ipynb#X15sZmlsZQ%3D%3D?line=12'>13</a>\u001b[0m html \u001b[39m=\u001b[39m response\u001b[39m.\u001b[39mtext\n\u001b[1;32m---> <a href='vscode-notebook-cell:/c%3A/Users/tjtjd/OneDrive/%EB%B0%94%ED%83%95%20%ED%99%94%EB%A9%B4/%EC%9D%B8%EC%9E%AC%EC%96%91%EC%84%B1%20%ED%94%84%EB%A1%9C%EC%A0%9D%ED%8A%B8/development_project/code/%EA%B3%A0%EB%93%B1%ED%95%99%EA%B5%90%20%EB%AA%85%EB%8B%A8%20%EC%B6%94%EC%B6%9C.ipynb#X15sZmlsZQ%3D%3D?line=14'>15</a>\u001b[0m soup \u001b[39m=\u001b[39m BeautifulSoup( html, \u001b[39m'\u001b[39;49m\u001b[39mhtml.parser\u001b[39;49m\u001b[39m'\u001b[39;49m )\n\u001b[0;32m     <a href='vscode-notebook-cell:/c%3A/Users/tjtjd/OneDrive/%EB%B0%94%ED%83%95%20%ED%99%94%EB%A9%B4/%EC%9D%B8%EC%9E%AC%EC%96%91%EC%84%B1%20%ED%94%84%EB%A1%9C%EC%A0%9D%ED%8A%B8/development_project/code/%EA%B3%A0%EB%93%B1%ED%95%99%EA%B5%90%20%EB%AA%85%EB%8B%A8%20%EC%B6%94%EC%B6%9C.ipynb#X15sZmlsZQ%3D%3D?line=16'>17</a>\u001b[0m \u001b[39m# 0 : 주소\u001b[39;00m\n\u001b[0;32m     <a href='vscode-notebook-cell:/c%3A/Users/tjtjd/OneDrive/%EB%B0%94%ED%83%95%20%ED%99%94%EB%A9%B4/%EC%9D%B8%EC%9E%AC%EC%96%91%EC%84%B1%20%ED%94%84%EB%A1%9C%EC%A0%9D%ED%8A%B8/development_project/code/%EA%B3%A0%EB%93%B1%ED%95%99%EA%B5%90%20%EB%AA%85%EB%8B%A8%20%EC%B6%94%EC%B6%9C.ipynb#X15sZmlsZQ%3D%3D?line=17'>18</a>\u001b[0m \u001b[39m# 1 : 전화번호\u001b[39;00m\n\u001b[0;32m     <a href='vscode-notebook-cell:/c%3A/Users/tjtjd/OneDrive/%EB%B0%94%ED%83%95%20%ED%99%94%EB%A9%B4/%EC%9D%B8%EC%9E%AC%EC%96%91%EC%84%B1%20%ED%94%84%EB%A1%9C%EC%A0%9D%ED%8A%B8/development_project/code/%EA%B3%A0%EB%93%B1%ED%95%99%EA%B5%90%20%EB%AA%85%EB%8B%A8%20%EC%B6%94%EC%B6%9C.ipynb#X15sZmlsZQ%3D%3D?line=18'>19</a>\u001b[0m \u001b[39m# 2 : 개교 연도\u001b[39;00m\n\u001b[0;32m     <a href='vscode-notebook-cell:/c%3A/Users/tjtjd/OneDrive/%EB%B0%94%ED%83%95%20%ED%99%94%EB%A9%B4/%EC%9D%B8%EC%9E%AC%EC%96%91%EC%84%B1%20%ED%94%84%EB%A1%9C%EC%A0%9D%ED%8A%B8/development_project/code/%EA%B3%A0%EB%93%B1%ED%95%99%EA%B5%90%20%EB%AA%85%EB%8B%A8%20%EC%B6%94%EC%B6%9C.ipynb#X15sZmlsZQ%3D%3D?line=19'>20</a>\u001b[0m \u001b[39m# 3 : 학생수\u001b[39;00m\n\u001b[0;32m     <a href='vscode-notebook-cell:/c%3A/Users/tjtjd/OneDrive/%EB%B0%94%ED%83%95%20%ED%99%94%EB%A9%B4/%EC%9D%B8%EC%9E%AC%EC%96%91%EC%84%B1%20%ED%94%84%EB%A1%9C%EC%A0%9D%ED%8A%B8/development_project/code/%EA%B3%A0%EB%93%B1%ED%95%99%EA%B5%90%20%EB%AA%85%EB%8B%A8%20%EC%B6%94%EC%B6%9C.ipynb#X15sZmlsZQ%3D%3D?line=20'>21</a>\u001b[0m a_tag \u001b[39m=\u001b[39m soup\u001b[39m.\u001b[39mselect(\u001b[39m'\u001b[39m\u001b[39m.home\u001b[39m\u001b[39m'\u001b[39m) \u001b[39m# 홈페이지 주소\u001b[39;00m\n",
      "File \u001b[1;32mc:\\Users\\tjtjd\\AppData\\Local\\Programs\\Python\\Python39\\lib\\site-packages\\bs4\\__init__.py:333\u001b[0m, in \u001b[0;36mBeautifulSoup.__init__\u001b[1;34m(self, markup, features, builder, parse_only, from_encoding, exclude_encodings, element_classes, **kwargs)\u001b[0m\n\u001b[0;32m    331\u001b[0m \u001b[39mself\u001b[39m\u001b[39m.\u001b[39mbuilder\u001b[39m.\u001b[39minitialize_soup(\u001b[39mself\u001b[39m)\n\u001b[0;32m    332\u001b[0m \u001b[39mtry\u001b[39;00m:\n\u001b[1;32m--> 333\u001b[0m     \u001b[39mself\u001b[39;49m\u001b[39m.\u001b[39;49m_feed()\n\u001b[0;32m    334\u001b[0m     success \u001b[39m=\u001b[39m \u001b[39mTrue\u001b[39;00m\n\u001b[0;32m    335\u001b[0m     \u001b[39mbreak\u001b[39;00m\n",
      "File \u001b[1;32mc:\\Users\\tjtjd\\AppData\\Local\\Programs\\Python\\Python39\\lib\\site-packages\\bs4\\__init__.py:451\u001b[0m, in \u001b[0;36mBeautifulSoup._feed\u001b[1;34m(self)\u001b[0m\n\u001b[0;32m    448\u001b[0m \u001b[39m# Convert the document to Unicode.\u001b[39;00m\n\u001b[0;32m    449\u001b[0m \u001b[39mself\u001b[39m\u001b[39m.\u001b[39mbuilder\u001b[39m.\u001b[39mreset()\n\u001b[1;32m--> 451\u001b[0m \u001b[39mself\u001b[39;49m\u001b[39m.\u001b[39;49mbuilder\u001b[39m.\u001b[39;49mfeed(\u001b[39mself\u001b[39;49m\u001b[39m.\u001b[39;49mmarkup)\n\u001b[0;32m    452\u001b[0m \u001b[39m# Close out any unfinished strings and close all the open tags.\u001b[39;00m\n\u001b[0;32m    453\u001b[0m \u001b[39mself\u001b[39m\u001b[39m.\u001b[39mendData()\n",
      "File \u001b[1;32mc:\\Users\\tjtjd\\AppData\\Local\\Programs\\Python\\Python39\\lib\\site-packages\\bs4\\builder\\_htmlparser.py:399\u001b[0m, in \u001b[0;36mHTMLParserTreeBuilder.feed\u001b[1;34m(self, markup)\u001b[0m\n\u001b[0;32m    397\u001b[0m parser\u001b[39m.\u001b[39msoup \u001b[39m=\u001b[39m \u001b[39mself\u001b[39m\u001b[39m.\u001b[39msoup\n\u001b[0;32m    398\u001b[0m \u001b[39mtry\u001b[39;00m:\n\u001b[1;32m--> 399\u001b[0m     parser\u001b[39m.\u001b[39;49mfeed(markup)\n\u001b[0;32m    400\u001b[0m     parser\u001b[39m.\u001b[39mclose()\n\u001b[0;32m    401\u001b[0m \u001b[39mexcept\u001b[39;00m HTMLParseError \u001b[39mas\u001b[39;00m e:\n",
      "File \u001b[1;32mc:\\Users\\tjtjd\\AppData\\Local\\Programs\\Python\\Python39\\lib\\html\\parser.py:110\u001b[0m, in \u001b[0;36mHTMLParser.feed\u001b[1;34m(self, data)\u001b[0m\n\u001b[0;32m    104\u001b[0m \u001b[39mr\u001b[39m\u001b[39m\"\"\"Feed data to the parser.\u001b[39;00m\n\u001b[0;32m    105\u001b[0m \n\u001b[0;32m    106\u001b[0m \u001b[39mCall this as often as you want, with as little or as much text\u001b[39;00m\n\u001b[0;32m    107\u001b[0m \u001b[39mas you want (may include '\\n').\u001b[39;00m\n\u001b[0;32m    108\u001b[0m \u001b[39m\"\"\"\u001b[39;00m\n\u001b[0;32m    109\u001b[0m \u001b[39mself\u001b[39m\u001b[39m.\u001b[39mrawdata \u001b[39m=\u001b[39m \u001b[39mself\u001b[39m\u001b[39m.\u001b[39mrawdata \u001b[39m+\u001b[39m data\n\u001b[1;32m--> 110\u001b[0m \u001b[39mself\u001b[39;49m\u001b[39m.\u001b[39;49mgoahead(\u001b[39m0\u001b[39;49m)\n",
      "File \u001b[1;32mc:\\Users\\tjtjd\\AppData\\Local\\Programs\\Python\\Python39\\lib\\html\\parser.py:172\u001b[0m, in \u001b[0;36mHTMLParser.goahead\u001b[1;34m(self, end)\u001b[0m\n\u001b[0;32m    170\u001b[0m     k \u001b[39m=\u001b[39m \u001b[39mself\u001b[39m\u001b[39m.\u001b[39mparse_starttag(i)\n\u001b[0;32m    171\u001b[0m \u001b[39melif\u001b[39;00m startswith(\u001b[39m\"\u001b[39m\u001b[39m</\u001b[39m\u001b[39m\"\u001b[39m, i):\n\u001b[1;32m--> 172\u001b[0m     k \u001b[39m=\u001b[39m \u001b[39mself\u001b[39;49m\u001b[39m.\u001b[39;49mparse_endtag(i)\n\u001b[0;32m    173\u001b[0m \u001b[39melif\u001b[39;00m startswith(\u001b[39m\"\u001b[39m\u001b[39m<!--\u001b[39m\u001b[39m\"\u001b[39m, i):\n\u001b[0;32m    174\u001b[0m     k \u001b[39m=\u001b[39m \u001b[39mself\u001b[39m\u001b[39m.\u001b[39mparse_comment(i)\n",
      "File \u001b[1;32mc:\\Users\\tjtjd\\AppData\\Local\\Programs\\Python\\Python39\\lib\\html\\parser.py:420\u001b[0m, in \u001b[0;36mHTMLParser.parse_endtag\u001b[1;34m(self, i)\u001b[0m\n\u001b[0;32m    417\u001b[0m         \u001b[39mself\u001b[39m\u001b[39m.\u001b[39mhandle_data(rawdata[i:gtpos])\n\u001b[0;32m    418\u001b[0m         \u001b[39mreturn\u001b[39;00m gtpos\n\u001b[1;32m--> 420\u001b[0m \u001b[39mself\u001b[39;49m\u001b[39m.\u001b[39;49mhandle_endtag(elem)\n\u001b[0;32m    421\u001b[0m \u001b[39mself\u001b[39m\u001b[39m.\u001b[39mclear_cdata_mode()\n\u001b[0;32m    422\u001b[0m \u001b[39mreturn\u001b[39;00m gtpos\n",
      "File \u001b[1;32mc:\\Users\\tjtjd\\AppData\\Local\\Programs\\Python\\Python39\\lib\\site-packages\\bs4\\builder\\_htmlparser.py:193\u001b[0m, in \u001b[0;36mBeautifulSoupHTMLParser.handle_endtag\u001b[1;34m(self, name, check_already_closed)\u001b[0m\n\u001b[0;32m    191\u001b[0m     \u001b[39mself\u001b[39m\u001b[39m.\u001b[39malready_closed_empty_element\u001b[39m.\u001b[39mremove(name)\n\u001b[0;32m    192\u001b[0m \u001b[39melse\u001b[39;00m:\n\u001b[1;32m--> 193\u001b[0m     \u001b[39mself\u001b[39;49m\u001b[39m.\u001b[39;49msoup\u001b[39m.\u001b[39;49mhandle_endtag(name)\n",
      "File \u001b[1;32mc:\\Users\\tjtjd\\AppData\\Local\\Programs\\Python\\Python39\\lib\\site-packages\\bs4\\__init__.py:742\u001b[0m, in \u001b[0;36mBeautifulSoup.handle_endtag\u001b[1;34m(self, name, nsprefix)\u001b[0m\n\u001b[0;32m    736\u001b[0m \u001b[39m\"\"\"Called by the tree builder when an ending tag is encountered.\u001b[39;00m\n\u001b[0;32m    737\u001b[0m \n\u001b[0;32m    738\u001b[0m \u001b[39m:param name: Name of the tag.\u001b[39;00m\n\u001b[0;32m    739\u001b[0m \u001b[39m:param nsprefix: Namespace prefix for the tag.\u001b[39;00m\n\u001b[0;32m    740\u001b[0m \u001b[39m\"\"\"\u001b[39;00m\n\u001b[0;32m    741\u001b[0m \u001b[39m#print(\"End tag: \" + name)\u001b[39;00m\n\u001b[1;32m--> 742\u001b[0m \u001b[39mself\u001b[39;49m\u001b[39m.\u001b[39;49mendData()\n\u001b[0;32m    743\u001b[0m \u001b[39mself\u001b[39m\u001b[39m.\u001b[39m_popToTag(name, nsprefix)\n",
      "File \u001b[1;32mc:\\Users\\tjtjd\\AppData\\Local\\Programs\\Python\\Python39\\lib\\site-packages\\bs4\\__init__.py:589\u001b[0m, in \u001b[0;36mBeautifulSoup.endData\u001b[1;34m(self, containerClass)\u001b[0m\n\u001b[0;32m    586\u001b[0m     \u001b[39mreturn\u001b[39;00m\n\u001b[0;32m    588\u001b[0m containerClass \u001b[39m=\u001b[39m \u001b[39mself\u001b[39m\u001b[39m.\u001b[39mstring_container(containerClass)\n\u001b[1;32m--> 589\u001b[0m o \u001b[39m=\u001b[39m containerClass(current_data)\n\u001b[0;32m    590\u001b[0m \u001b[39mself\u001b[39m\u001b[39m.\u001b[39mobject_was_parsed(o)\n",
      "File \u001b[1;32mc:\\Users\\tjtjd\\AppData\\Local\\Programs\\Python\\Python39\\lib\\site-packages\\bs4\\element.py:946\u001b[0m, in \u001b[0;36mNavigableString.__new__\u001b[1;34m(cls, value)\u001b[0m\n\u001b[0;32m    944\u001b[0m \u001b[39melse\u001b[39;00m:\n\u001b[0;32m    945\u001b[0m     u \u001b[39m=\u001b[39m \u001b[39mstr\u001b[39m\u001b[39m.\u001b[39m\u001b[39m__new__\u001b[39m(\u001b[39mcls\u001b[39m, value, DEFAULT_OUTPUT_ENCODING)\n\u001b[1;32m--> 946\u001b[0m u\u001b[39m.\u001b[39;49msetup()\n\u001b[0;32m    947\u001b[0m \u001b[39mreturn\u001b[39;00m u\n",
      "File \u001b[1;32mc:\\Users\\tjtjd\\AppData\\Local\\Programs\\Python\\Python39\\lib\\site-packages\\bs4\\element.py:157\u001b[0m, in \u001b[0;36mPageElement.setup\u001b[1;34m(self, parent, previous_element, next_element, previous_sibling, next_sibling)\u001b[0m\n\u001b[0;32m    150\u001b[0m \u001b[39mclass\u001b[39;00m \u001b[39mPageElement\u001b[39;00m(\u001b[39mobject\u001b[39m):\n\u001b[0;32m    151\u001b[0m     \u001b[39m\"\"\"Contains the navigational information for some part of the page:\u001b[39;00m\n\u001b[0;32m    152\u001b[0m \u001b[39m    that is, its current location in the parse tree.\u001b[39;00m\n\u001b[0;32m    153\u001b[0m \n\u001b[0;32m    154\u001b[0m \u001b[39m    NavigableString, Tag, etc. are all subclasses of PageElement.\u001b[39;00m\n\u001b[0;32m    155\u001b[0m \u001b[39m    \"\"\"\u001b[39;00m\n\u001b[1;32m--> 157\u001b[0m     \u001b[39mdef\u001b[39;00m \u001b[39msetup\u001b[39m(\u001b[39mself\u001b[39m, parent\u001b[39m=\u001b[39m\u001b[39mNone\u001b[39;00m, previous_element\u001b[39m=\u001b[39m\u001b[39mNone\u001b[39;00m, next_element\u001b[39m=\u001b[39m\u001b[39mNone\u001b[39;00m,\n\u001b[0;32m    158\u001b[0m               previous_sibling\u001b[39m=\u001b[39m\u001b[39mNone\u001b[39;00m, next_sibling\u001b[39m=\u001b[39m\u001b[39mNone\u001b[39;00m):\n\u001b[0;32m    159\u001b[0m         \u001b[39m\"\"\"Sets up the initial relations between this element and\u001b[39;00m\n\u001b[0;32m    160\u001b[0m \u001b[39m        other elements.\u001b[39;00m\n\u001b[0;32m    161\u001b[0m \n\u001b[1;32m   (...)\u001b[0m\n\u001b[0;32m    174\u001b[0m \u001b[39m            on the same level of the parse tree as this one.\u001b[39;00m\n\u001b[0;32m    175\u001b[0m \u001b[39m        \"\"\"\u001b[39;00m\n\u001b[0;32m    176\u001b[0m         \u001b[39mself\u001b[39m\u001b[39m.\u001b[39mparent \u001b[39m=\u001b[39m parent\n",
      "\u001b[1;31mKeyboardInterrupt\u001b[0m: "
     ]
    }
   ],
   "source": [
    "\n",
    "# 딕셔너리에 집어넣고 csv 파일 만듦\n",
    "\n",
    "import os\n",
    "import pandas as pd\n",
    "\n",
    "path = '../code/교육청_csv/'\n",
    "\n",
    "file_list = os.listdir(path) # 폴더 안 파일 목록 가져옴\n",
    "\n",
    "offices_of_education_csv = file_list\n",
    "\n",
    "for i in offices_of_education_csv:\n",
    "    df = pd.read_csv(path + i)\n",
    "\n",
    "    high_school_names = list(set(df['학교명']))\n",
    "\n",
    "    for j in high_school_names:\n",
    "        # 학교 계열\n",
    "        _list = list(df[df['학교명'] == j]['계열명'])\n",
    "        affiliations = ''\n",
    "        for k in _list:\n",
    "            affiliations += k + ' '\n",
    "            if _list[-1] != k:\n",
    "                affiliations += ', '\n",
    "\n",
    "        put_high_school_data(j, affiliations) \n",
    "\n",
    "    high_school_dataframe = pd.DataFrame(high_schools_data).T\n",
    "    csv_name = i.strip('교육청.csv') + '고등학교데이터.csv'\n",
    "    csv_path = '../data_csv/' + csv_name\n",
    "    high_school_dataframe.to_csv(csv_path)\n"
   ]
  },
  {
   "cell_type": "code",
   "execution_count": null,
   "metadata": {},
   "outputs": [],
   "source": [
    "# 로고 주소 공식\n",
    "# 홈페이지 주소 + / + img src\n"
   ]
  },
  {
   "cell_type": "code",
   "execution_count": null,
   "metadata": {},
   "outputs": [],
   "source": []
  }
 ],
 "metadata": {
  "kernelspec": {
   "display_name": "Python 3.9.13 64-bit",
   "language": "python",
   "name": "python3"
  },
  "language_info": {
   "codemirror_mode": {
    "name": "ipython",
    "version": 3
   },
   "file_extension": ".py",
   "mimetype": "text/x-python",
   "name": "python",
   "nbconvert_exporter": "python",
   "pygments_lexer": "ipython3",
   "version": "3.9.13"
  },
  "orig_nbformat": 4,
  "vscode": {
   "interpreter": {
    "hash": "889e092ed79d0679d51c01863d8194039306ffb1c431be74a2a0c69e66854ced"
   }
  }
 },
 "nbformat": 4,
 "nbformat_minor": 2
}
